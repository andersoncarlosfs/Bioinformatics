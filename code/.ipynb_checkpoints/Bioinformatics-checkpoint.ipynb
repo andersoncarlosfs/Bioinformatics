{
 "cells": [
  {
   "cell_type": "markdown",
   "metadata": {},
   "source": [
    "# Introduction"
   ]
  },
  {
   "cell_type": "markdown",
   "metadata": {},
   "source": [
    "This notebook aims to describe the extract, transform, load (ETL) process for gene-specific data from NCBI and UniProt."
   ]
  },
  {
   "cell_type": "code",
   "execution_count": null,
   "metadata": {},
   "outputs": [],
   "source": [
    "import gzip\n",
    "import os\n",
    "import shutil\n",
    "\n",
    "def _uncompress(_path):\n",
    "    with gzip.open(_path, 'rb') as _input, open('./' + os.path.splitext(os.path.basename(_path))[0], 'w') as _output:\n",
    "        shutil.copyfileobj(_input, _output) \n",
    "        return os.path.basename(_output.name)\n",
    "    \n",
    "import pandas\n",
    "    \n",
    "def _read(_path):\n",
    "    return pandas.read_csv(_path, delimiter = '\\t')"
   ]
  },
  {
   "cell_type": "markdown",
   "metadata": {},
   "source": [
    "# Methods"
   ]
  },
  {
   "cell_type": "markdown",
   "metadata": {},
   "source": [
    "## Datasets"
   ]
  },
  {
   "cell_type": "markdown",
   "metadata": {},
   "source": [
    "This section describe the datasets used to in this project"
   ]
  },
  {
   "cell_type": "code",
   "execution_count": null,
   "metadata": {},
   "outputs": [],
   "source": [
    "_datasets = {\n",
    "    'Homo_sapiens.gene_info': '../datasets/NCBI/Homo_sapiens.gene_info.gz',\n",
    "    'gene2go': '../datasets/NCBI/gene2go.gz' \n",
    "}\n",
    "\n",
    "for _index in _datasets:\n",
    "    _datasets[_index] = _uncompress(_datasets[_index])"
   ]
  },
  {
   "cell_type": "markdown",
   "metadata": {},
   "source": [
    "### NCBI"
   ]
  },
  {
   "cell_type": "markdown",
   "metadata": {},
   "source": [
    "#### Homo_sapiens.gene_info"
   ]
  },
  {
   "cell_type": "code",
   "execution_count": null,
   "metadata": {},
   "outputs": [],
   "source": [
    "_dataset = _read(_datasets['Homo_sapiens.gene_info'])\n",
    "\n",
    "_dataset.head()"
   ]
  },
  {
   "cell_type": "markdown",
   "metadata": {},
   "source": [
    "#### gene2go"
   ]
  },
  {
   "cell_type": "code",
   "execution_count": null,
   "metadata": {},
   "outputs": [],
   "source": [
    "_dataset = _read(_datasets['gene2go'])\n",
    "\n",
    "_dataset.head()"
   ]
  },
  {
   "cell_type": "markdown",
   "metadata": {},
   "source": [
    "The target taxonomy of this project is the Homo sapiens (Human) that holds the taxon indentifier 9606."
   ]
  },
  {
   "cell_type": "code",
   "execution_count": null,
   "metadata": {},
   "outputs": [],
   "source": [
    "taxon = 9606"
   ]
  },
  {
   "cell_type": "markdown",
   "metadata": {},
   "source": [
    "### Database"
   ]
  },
  {
   "cell_type": "code",
   "execution_count": null,
   "metadata": {},
   "outputs": [],
   "source": [
    "def _replace(_text, _data):\n",
    "    _text.strip()\n",
    "    if _data is not None:\n",
    "        for _part in _text.split('|'):\n",
    "            _data.append(_part.strip())\n",
    "        return _data\n",
    "    if _text == '-':\n",
    "        return 'NOT AVAILABLE'\n",
    "    return _text\n",
    "\n",
    "def _strings(_data, _fields, _prefix):\n",
    "    _lines = []\n",
    "    _line = ''\n",
    "    _arrays = []\n",
    "    for _index, _value in enumerate(_data):\n",
    "        if isinstance(_value, list):\n",
    "            _arrays.append(_index)\n",
    "        if isinstance(_value, str):\n",
    "            _line = _line + '\\t' + _fields[_index] + '\\t' + _value\n",
    "        else :\n",
    "            _line =  _fields[_index] + '\\t ERROR'\n",
    "            _arrays = []\n",
    "            break\n",
    "    _lines.append(_line)\n",
    "    for _index in _arrays:\n",
    "        for _value in _data[_index]:\n",
    "                _lines.append(_prefix + '\\t' + _fields[_index] + '\\t' + _value)\n",
    "    return _lines\n",
    "\n",
    "import tempfile\n",
    "\n",
    "from datetime import datetime"
   ]
  },
  {
   "cell_type": "code",
   "execution_count": null,
   "metadata": {},
   "outputs": [],
   "source": [
    "# connection"
   ]
  },
  {
   "cell_type": "code",
   "execution_count": null,
   "metadata": {},
   "outputs": [],
   "source": [
    "with open(_datasets['Homo_sapiens.gene_info'], 'r') as _input:\n",
    "    _output, _path = tempfile.mkstemp()\n",
    "    _fields = [\n",
    "        'taxonomy_id',\n",
    "        'gene_id',\n",
    "        'symbol',\n",
    "        'locus_tag',\n",
    "        'synonym',\n",
    "        'db_xref',\n",
    "        'chromosome',\n",
    "        'map_location',\n",
    "        'description',\n",
    "        'type_of_gene',\n",
    "        'symbol_from_nomenclature_authority',\n",
    "        'full_name_from_nomenclature_authority',\n",
    "        'nomenclature_status',\n",
    "        'other_designation',\n",
    "        'modification_date',\n",
    "        'feature_type'\n",
    "    ]\n",
    "    for _line in _input:\n",
    "        _data = [\n",
    "            None,\n",
    "            None,\n",
    "            None,\n",
    "            [],\n",
    "            [],\n",
    "            [],\n",
    "            [],\n",
    "            [],   \n",
    "            None,\n",
    "            None,\n",
    "            None,\n",
    "            None,\n",
    "            None,\n",
    "            [],\n",
    "            None, \n",
    "            []\n",
    "        ]\n",
    "        _line = _line.strip()\n",
    "        if _line.startswith('#'): \n",
    "            continue\n",
    "        _parts = _line.split('\\t')\n",
    "        if len(_parts) != len(_fields):\n",
    "            continue\n",
    "        if not _parts[0].startswith(str(taxon)): \n",
    "            continue      \n",
    "        for _index, _part in enumerate(_parts):\n",
    "            _data[_index] = _replace(_part, _data[_index])\n",
    "        _data[14] = datetime.strptime(_data[14], '%Y%m%d')\n",
    "        _prefix = _fields[0] + '\\t' + _data[0]\n",
    "        for _line in _strings(_data, _fields, _prefix):\n",
    "            os.write(_output, _line)\n",
    "    os.close(_output)\n",
    "    shutil.move(_path, _datasets['Homo_sapiens.gene_info'])"
   ]
  },
  {
   "cell_type": "code",
   "execution_count": null,
   "metadata": {},
   "outputs": [],
   "source": []
  }
 ],
 "metadata": {
  "kernelspec": {
   "display_name": "Python 2",
   "language": "python",
   "name": "python2"
  },
  "language_info": {
   "codemirror_mode": {
    "name": "ipython",
    "version": 2
   },
   "file_extension": ".py",
   "mimetype": "text/x-python",
   "name": "python",
   "nbconvert_exporter": "python",
   "pygments_lexer": "ipython2",
   "version": "2.7.13"
  }
 },
 "nbformat": 4,
 "nbformat_minor": 2
}
