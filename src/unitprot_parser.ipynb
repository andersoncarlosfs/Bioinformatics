{
 "cells": [
  {
   "cell_type": "markdown",
   "metadata": {},
   "source": [
    "# Parsing UnitProt data"
   ]
  },
  {
   "cell_type": "code",
   "execution_count": 1,
   "metadata": {},
   "outputs": [],
   "source": [
    "import pandas as pd\n",
    "from pandas import DataFrame"
   ]
  },
  {
   "cell_type": "markdown",
   "metadata": {},
   "source": [
    "## Functions to generate queries from data"
   ]
  },
  {
   "cell_type": "code",
   "execution_count": 2,
   "metadata": {},
   "outputs": [
    {
     "data": {
      "text/plain": [
       "'INSERT INTO TABLE users VALUES (1, 25, hello) (2, 3, 4);'"
      ]
     },
     "execution_count": 2,
     "metadata": {},
     "output_type": "execute_result"
    }
   ],
   "source": [
    "# Generating INSERT scripts\n",
    "def generateInsertScript(name, lines):\n",
    "    query = \"INSERT INTO TABLE \" + name  + \" VALUES\"\n",
    "    for line in lines:\n",
    "        first = True\n",
    "        query = query + \" (\"\n",
    "        for v in line:\n",
    "            if first:\n",
    "                first = False\n",
    "            else:\n",
    "                query = query + \", \"\n",
    "            query = query + str(v)\n",
    "        query = query + \")\"\n",
    "    if len(lines) == 0:\n",
    "        return \";\"\n",
    "    else:\n",
    "        return query + \";\"\n",
    "generateInsertScript(\"users\", [(\"1\", \"25\", \"hello\"), (2, 3, 4)])"
   ]
  },
  {
   "cell_type": "code",
   "execution_count": 3,
   "metadata": {},
   "outputs": [],
   "source": [
    "def writeInsertQuery(table, lines, filepath):\n",
    "    if len(lines) == 0 or not table or not filepath:\n",
    "        return\n",
    "    with open(filepath, \"w\") as outf:\n",
    "        outf.write(\"INSERT INTO TABLE \" + table + \" VALUES\")\n",
    "        outf.writelines(\"\\n\" + str(line) for line in lines)\n",
    "        outf.write(\";\")"
   ]
  },
  {
   "cell_type": "markdown",
   "metadata": {},
   "source": [
    "## Useful functions"
   ]
  },
  {
   "cell_type": "code",
   "execution_count": 4,
   "metadata": {},
   "outputs": [],
   "source": [
    "# return a dataframe's columns named after array 'attributes'\n",
    "# inefficient, rather slow\n",
    "def extractColumns(df, attributes):\n",
    "    return [df[attributes].iloc[[i]].values.tolist()[0] for i in range(len(df))]\n",
    "\n",
    "# split a string and remove the empty elements\n",
    "def split(s, delimiter):\n",
    "    content = s.split(delimiter)\n",
    "    return [item for item in content if item]\n",
    "\n",
    "def appendToSubArray(di, key, value):\n",
    "    if not key in di:\n",
    "        di[key] = []\n",
    "    di[key].append(value)\n",
    "        "
   ]
  },
  {
   "cell_type": "markdown",
   "metadata": {},
   "source": [
    "## Parsing UnitProt"
   ]
  },
  {
   "cell_type": "code",
   "execution_count": 5,
   "metadata": {},
   "outputs": [],
   "source": [
    "cancer_lines = []\n",
    "allowedCategories = ['ID', 'AC', 'DE', 'GN', 'KW']\n",
    "with open(\"../Datasets/UniProtKB/unitprot-cancer/unitprot-cancer.txt\") as cf:\n",
    "    for line in cf:\n",
    "        content = split(line, ' ')\n",
    "        if len(content) > 0 and content[0] in allowedCategories:\n",
    "            # 1. separate line prefix from content\n",
    "            # 2. remove '\\n' character at the end of every line (supposedly, otherwise don't do it like this)\n",
    "            cancer_lines.append((content[0], (' '.join(content[1:]))[:-1]))\n"
   ]
  },
  {
   "cell_type": "code",
   "execution_count": 6,
   "metadata": {},
   "outputs": [],
   "source": [
    "#cancer_lines"
   ]
  },
  {
   "cell_type": "code",
   "execution_count": 14,
   "metadata": {
    "scrolled": true
   },
   "outputs": [],
   "source": [
    "# For every type of line, specific parsing is required\n",
    "\n",
    "# how to parse each line : \n",
    "# https://web.expasy.org/docs/userman.html\n",
    "\n",
    "class CancerDataNode:\n",
    "    def __init__(self, id):\n",
    "        self.id = id\n",
    "        self.ac = []\n",
    "        \n",
    "        # desc related\n",
    "        self.desc = {\"AltName\" : {}, \n",
    "                     \"RecName\" : {}, \n",
    "                     \"Flags\" : [], \n",
    "                     \"Contains\" : {\"RecName\" : {} , \"AltName\" : {}}, \n",
    "                     \"Includes\" : {\"RecName\" : {} , \"AltName\" : {}}\n",
    "                    }\n",
    "        self.flags = []\n",
    "        \n",
    "        self.keywords = []\n",
    "        self.gn = {}\n",
    "        \n",
    "    # generate triples from the data\n",
    "    def triples(self):\n",
    "        triples = []\n",
    "        \n",
    "        # Keywords\n",
    "        for item in self.keywords:\n",
    "            triples.append((self.id, \"keyword\", item))\n",
    "            \n",
    "        # Accession numbers\n",
    "        for item in self.ac:\n",
    "            triples.append((self.id, \"acnumber\", item))\n",
    "            \n",
    "        # Recommended Names\n",
    "        if 'RecName' in self.desc:\n",
    "            for item in self.desc['RecName']:\n",
    "                triples.append((self.id, \"recname\", item))\n",
    "        \n",
    "        # Alternative Names\n",
    "        if 'AltName' in self.desc:\n",
    "            for item in self.desc['AltName']:\n",
    "                triples.append((self.id, \"altname\", item))\n",
    "            \n",
    "        return triples\n",
    "    \n",
    "    def __str__(self):\n",
    "        desc = \"\"\n",
    "        desc = desc + \"ID=\" + self.id \n",
    "        desc = desc +\"\\nDescription=\" + str(self.desc)\n",
    "        desc = desc + \"\\nKeywords=\" + str(self.keywords)\n",
    "        desc = desc + \"\\nACcessionNumbers=\" + str(self.ac)\n",
    "        desc = desc + \"\\nGeneNames=\" + str(self.gn)\n",
    "        return desc\n",
    "\n",
    "cancerData = []\n",
    "currentNode = None\n",
    "\n",
    "# We need this data to be external, because DE content is spread across several lines w.r.t previous lines\n",
    "descBuf = {}\n",
    "subDescType = None\n",
    "superDescType = None\n",
    "            \n",
    "for line in cancer_lines:\n",
    "    if not line[1]:\n",
    "        continue\n",
    "    form = line[0]\n",
    "    if (form == 'ID'):\n",
    "        currentNode = CancerDataNode(line[1].split(' ')[0])\n",
    "        cancerData.append(currentNode)\n",
    "    elif (form == 'AC'):\n",
    "        if currentNode:\n",
    "                [currentNode.ac.append(item.strip()) for item in split(line[1], ';')]\n",
    "    elif (form == 'DE'):\n",
    "        # As you might have guessed, this is the most difficult to parse. WIP\n",
    "        # It works almost correctly, but there are some incorrect split operations. Only the first word of =$1 is captured.\n",
    "        # There are several flaws here.\n",
    "        # The split by ' ' messes up things.\n",
    "        # \n",
    "        if currentNode:\n",
    "            spacesplit = split(line[1], ' ')\n",
    "            colonsplit = split(line[1], ':')\n",
    "            if len(colonsplit) and colonsplit[0] in ['Contains', 'Includes']:\n",
    "                superDescType = colonsplit[0]\n",
    "            elif len(colonsplit) and colonsplit[0] in ['AltName', 'RecName', 'SubName']:\n",
    "                subDescType = colonsplit[0]\n",
    "                # to remove the ';'\n",
    "                content = split(colonsplit[1][:-1], '=')\n",
    "                if superDescType:\n",
    "                    appendToSubArray(currentNode.desc[superDescType][subDescType], content[0].strip(), content[1].strip())\n",
    "                else:\n",
    "                    appendToSubArray(currentNode.desc[subDescType], content[0].strip(), content[1].strip())\n",
    "            elif spacesplit[0] == 'Flags:':\n",
    "                currentNode.desc['Flags'].append(colonsplit[1][:-1].strip())\n",
    "            else:\n",
    "                content = split(line[1], '=')\n",
    "                if len(content) < 2:\n",
    "                    continue\n",
    "                if superDescType and subDescType:\n",
    "                    appendToSubArray(currentNode.desc[superDescType][subDescType], content[0], content[1][:-1])\n",
    "                elif subDescType:\n",
    "                    appendToSubArray(currentNode.desc[subDescType], content[0], content[1][:-1])\n",
    "                else:\n",
    "                    print(\"No subtype ? Impossiburu !\")\n",
    "                \n",
    "    elif (form == 'GN'):\n",
    "        if currentNode:\n",
    "            if line[1] == 'and':\n",
    "                continue\n",
    "            gn = {}\n",
    "            for item in split(line[1], ';'):\n",
    "                content = split(item, '=')\n",
    "                if len(content) > 1:\n",
    "                    #{ split\n",
    "                    #, split\n",
    "                    commasplit = split(content[1], ',')\n",
    "                    for i in commasplit:\n",
    "                        appendToSubArray(currentNode.gn, content[0], i)\n",
    "            \n",
    "    elif (form == 'KW'):\n",
    "        if currentNode:\n",
    "                [currentNode.keywords.append(item.strip()) for item in split(line[1], ';')]\n",
    "    \n",
    "#if len(cancerData) > 0:\n",
    "#    print(cancerData[0]) "
   ]
  },
  {
   "cell_type": "markdown",
   "metadata": {},
   "source": [
    "## Content of a data node\n"
   ]
  },
  {
   "cell_type": "code",
   "execution_count": 8,
   "metadata": {},
   "outputs": [
    {
     "name": "stdout",
     "output_type": "stream",
     "text": [
      "ID=RACK1_HUMAN\n",
      "Description={'Contains': {'AltName': {'Short': ['HLC-7'], ' Full': ['Cell proliferation-inducing gene 21 protein', 'Guanine nucleotide-binding protein subunit beta-2-like 1', 'Guanine nucleotide-binding protein subunit beta-like protein 12.3', 'Human lung cancer oncogene 7 protein', 'Receptor for activated C kinase', 'Small ribosomal subunit protein RACK1 {EC', 'Guanine nucleotide-binding protein subunit beta-2-like 1, N-terminally processed']}, 'RecName': {' Full': ['Receptor of activated protein C kinase 1', 'Receptor of activated protein C kinase 1, N-terminally processed']}}, 'RecName': {}, 'Flags': [], 'Includes': {'AltName': {}, 'RecName': {}}, 'AltName': {}}\n",
      "Keywords=['3D-structure', 'Acetylation', 'Apoptosis', 'Biological rhythms', 'Cell cycle', 'Cell membrane', 'Cell projection', 'Complete proteome', 'Cytoplasm', 'Developmental protein', 'Direct protein sequencing', 'Gastrulation', 'Growth regulation', 'Host-virus interaction', 'Membrane', 'Nucleus', 'Phosphoprotein', 'Reference proteome', 'Repeat', 'Ribonucleoprotein', 'Ribosomal protein', 'Translation regulation', 'WD repeat.']\n",
      "ACcessionNumbers=['P63244', 'B3KTJ0', 'D3DWS0', 'P25388', 'P99049', 'Q53HU2', 'Q5J8M6', 'Q5VLR4', 'Q6FH47']\n",
      "GeneNames={'ORFNames': ['HLC7', ' PIG21'], ' Synonyms': ['GNB2L1'], 'Name': ['RACK1 {ECO:0000312|HGNC:HGNC:4399}']}\n"
     ]
    }
   ],
   "source": [
    "for i in cancerData:\n",
    "#    if i.id == \"BRCA1_HUMAN\":\n",
    "    if i.id == \"RACK1_HUMAN\":\n",
    "        print(i)\n",
    "        #[print(a, b) for a, b in i.desc.items()]\n",
    "        break"
   ]
  },
  {
   "cell_type": "markdown",
   "metadata": {},
   "source": [
    "## Generating insert queries from data nodes"
   ]
  },
  {
   "cell_type": "code",
   "execution_count": 15,
   "metadata": {},
   "outputs": [],
   "source": [
    "lines = {\n",
    "    \"id\": [],\n",
    "    \"ac\" : [], \n",
    "    \"altname\" : [], \n",
    "    \"recname\" : [], \n",
    "    \"keyword\" : [], \n",
    "    \"genename\" : [], \n",
    "    \"flag\" : []}\n",
    "\n",
    "for node in cancerData:\n",
    "    \n",
    "    lines[\"id\"].append(node.id)\n",
    "    \n",
    "    [lines[\"ac\"].append((node.id, item)) for item in node.ac]\n",
    "    \n",
    "    [lines[\"altname\"].append((node.id, k, item)) for k, names in node.desc[\"AltName\"].items() for item in names]\n",
    "    [lines[\"altname\"].append((node.id, k, item)) for k, names in node.desc[\"Contains\"][\"AltName\"].items() for item in names]\n",
    "    [lines[\"altname\"].append((node.id, k, item)) for k, names in node.desc[\"Includes\"][\"AltName\"].items() for item in names]\n",
    "    \n",
    "    [lines[\"recname\"].append((node.id, k, item)) for k, names in node.desc[\"RecName\"].items() for item in names]\n",
    "    [lines[\"recname\"].append((node.id, k, item)) for k, names in node.desc[\"Contains\"][\"RecName\"].items() for item in names]\n",
    "    [lines[\"recname\"].append((node.id, k, item)) for k, names in node.desc[\"Includes\"][\"RecName\"].items() for item in names]\n",
    "    \n",
    "    [lines[\"flag\"].append((node.id, item)) for item in node.desc[\"Flags\"]]\n",
    "    \n",
    "    [lines[\"keyword\"].append((node.id, item)) for item in node.keywords]\n",
    "    \n",
    "    [lines[\"genename\"].append((node.id, item)) for k, v in node.gn.items() for item in v]\n",
    "    \n",
    "for key, value in lines.items():\n",
    "    writeInsertQuery(\"up_\" + key, value, \"queries/\" + str(key) + \".sql\")"
   ]
  },
  {
   "cell_type": "code",
   "execution_count": 10,
   "metadata": {},
   "outputs": [
    {
     "name": "stdout",
     "output_type": "stream",
     "text": [
      "Reached the end of the notebook !\n"
     ]
    }
   ],
   "source": [
    "print(\"Reached the end of the notebook !\")"
   ]
  }
 ],
 "metadata": {
  "kernelspec": {
   "display_name": "Python 3",
   "language": "python",
   "name": "python3"
  },
  "language_info": {
   "codemirror_mode": {
    "name": "ipython",
    "version": 3
   },
   "file_extension": ".py",
   "mimetype": "text/x-python",
   "name": "python",
   "nbconvert_exporter": "python",
   "pygments_lexer": "ipython3",
   "version": "3.5.1"
  }
 },
 "nbformat": 4,
 "nbformat_minor": 2
}
