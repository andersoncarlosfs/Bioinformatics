{
 "cells": [
  {
   "cell_type": "code",
   "execution_count": 1,
   "metadata": {},
   "outputs": [],
   "source": [
    "import pandas as pd\n",
    "from pandas import DataFrame\n",
    "\n",
    "## uncomment all of this if you wish to work on parsing gene2go\n",
    "#gene2go = pd.read_csv(\"../Datasets/NCBI/gene2go/gene2go\" , \"\\t\")\n",
    "#gene2go = gene2go.loc[gene2go['#tax_id'] == 9606]\n",
    "#gene2go = gene2go.drop(columns=['#tax_id'])\n",
    "##\n",
    "\n",
    "#humanGenome = pd.read_csv(\"../Datasets/NCBI/Homo_sapiens.gene_info/Homo_sapiens.gene_info\", \"\\t\")\n",
    "\n",
    "#gene2go"
   ]
  },
  {
   "cell_type": "code",
   "execution_count": 2,
   "metadata": {},
   "outputs": [
    {
     "data": {
      "text/plain": [
       "'INSERT INTO TABLE users VALUES (1, 25, hello) (2, 3, 4);'"
      ]
     },
     "execution_count": 2,
     "metadata": {},
     "output_type": "execute_result"
    }
   ],
   "source": [
    "# Generating the scripts\n",
    "\n",
    "# (1) name : name of the table\n",
    "# (2) lines : list of all lines to be inserted\n",
    "# e.g. generateInsertScript(\"users\", [[\"1\", \"25\", \"hello\"], ['2', '3', '4']])\n",
    "def generateInsertScript(name, lines):\n",
    "    query = \"INSERT INTO TABLE \" + name  + \" VALUES\"\n",
    "    for line in lines:\n",
    "        first = True\n",
    "        query = query + \" (\"\n",
    "        for v in line:\n",
    "            if first:\n",
    "                first = False\n",
    "            else:\n",
    "                query = query + \", \"\n",
    "            query = query + str(v)\n",
    "        query = query + \")\"\n",
    "    if len(lines) == 0:\n",
    "        return \";\"\n",
    "    else:\n",
    "        return query + \";\"\n",
    "generateInsertScript(\"users\", [(\"1\", \"25\", \"hello\"), (2, 3, 4)])"
   ]
  },
  {
   "cell_type": "code",
   "execution_count": 7,
   "metadata": {},
   "outputs": [],
   "source": [
    "# return a dataframe's columns named after array 'attributes'\n",
    "# inefficient, rather slow\n",
    "def extractColumns(df, attributes):\n",
    "    return [df[attributes].iloc[[i]].values.tolist()[0] for i in range(len(df))]\n",
    "\n",
    "# split a string and remove the empty elements\n",
    "def split(s, delimiter):\n",
    "    content = s.split(delimiter)\n",
    "    return [item for item in content if item]\n",
    "\n",
    "def appendToSubArray(di, key, value):\n",
    "    if not key in di:\n",
    "        di[key] = []\n",
    "    di[key].append(value)\n",
    "        "
   ]
  },
  {
   "cell_type": "markdown",
   "metadata": {},
   "source": [
    "## Parsing UnitProt"
   ]
  },
  {
   "cell_type": "code",
   "execution_count": 4,
   "metadata": {},
   "outputs": [],
   "source": [
    "cancer_lines = []\n",
    "allowedCategories = ['ID', 'AC', 'DE', 'GN', 'KW']\n",
    "with open(\"../Datasets/UniProtKB/unitprot-cancer/unitprot-cancer.txt\") as cf:\n",
    "    for line in cf:\n",
    "        content = split(line, ' ')\n",
    "        if len(content) > 0 and content[0] in allowedCategories:\n",
    "            # 1. separate line prefix from content\n",
    "            # 2. remove '\\n' character at the end of every line (supposedly, otherwise don't do it like this)\n",
    "            cancer_lines.append((content[0], (' '.join(content[1:]))[:-1]))\n",
    "#cancer_lines"
   ]
  },
  {
   "cell_type": "code",
   "execution_count": 40,
   "metadata": {
    "scrolled": true
   },
   "outputs": [],
   "source": [
    "# For every type of line, specific parsing is required\n",
    "# You should search for the specific syntax and parsing process on unitprot\n",
    "\n",
    "# how to parse each line : \n",
    "# https://web.expasy.org/docs/userman.html\n",
    "\n",
    "class CancerDataNode:\n",
    "    def __init__(self, id):\n",
    "        self.id = id\n",
    "        self.ac = []\n",
    "        \n",
    "        # desc related\n",
    "        self.desc = {\"AltName\" : {}, \n",
    "                     \"RecName\" : {}, \n",
    "                     \"Flags\" : [], \n",
    "                     \"Contains\" : {\"RecName\" : {} , \"AltName\" : {}}, \n",
    "                     \"Includes\" : {\"RecName\" : {} , \"AltName\" : {}}\n",
    "                    }\n",
    "        self.include = {}\n",
    "        self.contains = {}\n",
    "        self.flags = []\n",
    "        \n",
    "        self.keywords = []\n",
    "        self.gn = []\n",
    "        \n",
    "    # generate triples from the data\n",
    "    def triples(self):\n",
    "        triples = []\n",
    "        \n",
    "        # Keywords\n",
    "        for item in self.keywords:\n",
    "            triples.append((self.id, \"keyword\", item))\n",
    "            \n",
    "        # Accession numbers\n",
    "        for item in self.ac:\n",
    "            triples.append((self.id, \"acnumber\", item))\n",
    "            \n",
    "        # Recommended Names\n",
    "        if 'RecName' in self.desc:\n",
    "            for item in self.desc['RecName']:\n",
    "                triples.append((self.id, \"recname\", item))\n",
    "        \n",
    "        # Alternative Names\n",
    "        if 'AltName' in self.desc:\n",
    "            for item in self.desc['AltName']:\n",
    "                triples.append((self.id, \"altname\", item))\n",
    "            \n",
    "        return triples\n",
    "    \n",
    "    def __str__(self):\n",
    "        desc = \"\"\n",
    "        desc = desc + \"ID=\" + self.id \n",
    "        desc = desc +\"\\nDescription=\" + str(self.desc)\n",
    "        desc = desc + \"\\nKeywords=\" + str(self.keywords)\n",
    "        desc = desc + \"\\nACcessionNumbers=\" + str(self.ac)\n",
    "        desc = desc + \"\\nGeneNames=\" + str(self.gn)\n",
    "        return desc\n",
    "\n",
    "cancerData = []\n",
    "currentNode = None\n",
    "\n",
    "# We need this data to be external, because DE content is spread across several lines w.r.t previous lines\n",
    "descBuf = {}\n",
    "subDescType = None\n",
    "superDescType = None\n",
    "            \n",
    "for line in cancer_lines:\n",
    "    if not line[1]:\n",
    "        continue\n",
    "    form = line[0]\n",
    "    if (form == 'ID'):\n",
    "        currentNode = CancerDataNode(line[1].split(' ')[0])\n",
    "        cancerData.append(currentNode)\n",
    "    elif (form == 'AC'):\n",
    "        if currentNode:\n",
    "                [currentNode.ac.append(item.strip()) for item in split(line[1], ';')]\n",
    "    elif (form == 'DE'):\n",
    "        # As you might have guessed, this is the most difficult to parse. WIP\n",
    "        # It works almost correctly, but there are some incorrect split operations. Only the first word of =$1 is captured.\n",
    "        if currentNode:\n",
    "            spacesplit = split(line[1], ' ')\n",
    "            if spacesplit[0] in ['Contains:', 'Includes:']:\n",
    "                superDescType = spacesplit[0][:-1]\n",
    "            elif spacesplit[0] in ['AltName:', 'RecName:']:\n",
    "                subDescType = spacesplit[0][:-1]\n",
    "                content = split(spacesplit[1], '=')\n",
    "                if superDescType:\n",
    "                    appendToSubArray(currentNode.desc[superDescType][subDescType], content[0], content[1])\n",
    "                else:\n",
    "                    appendToSubArray(currentNode.desc[subDescType], content[0], content[1])\n",
    "            elif spacesplit[0] == 'Flags:':\n",
    "                currentNode.desc['Flags'].append(spacesplit[1].strip())\n",
    "            else:\n",
    "                content = split(line[1], '=')\n",
    "                if len(content) < 2:\n",
    "                    print(content)\n",
    "                    continue\n",
    "                if superDescType and subDescType:\n",
    "                    \n",
    "                    appendToSubArray(currentNode.desc[superDescType][subDescType], content[0], content[1])\n",
    "                elif subDescType:\n",
    "                    \n",
    "                    appendToSubArray(currentNode.desc[subDescType], content[0], content[1])\n",
    "                else:\n",
    "                    print(\"No subtype ? Impossiburu !\")\n",
    "                \n",
    "    elif (form == 'GN'):\n",
    "        if currentNode:\n",
    "            if line[1] == 'and':\n",
    "                continue\n",
    "            gn = {}\n",
    "            for item in split(line[1], ';'):\n",
    "                content = split(item, '=')\n",
    "                if len(content) > 1:\n",
    "                    gn[content[0]] = content[1]\n",
    "            currentNode.gn.append(gn)\n",
    "            \n",
    "    elif (form == 'KW'):\n",
    "        if currentNode:\n",
    "                [currentNode.keywords.append(item.strip()) for item in split(line[1], ';')]\n",
    "    \n",
    "#if len(cancerData) > 0:\n",
    "#    print(cancerData[0]) "
   ]
  },
  {
   "cell_type": "code",
   "execution_count": 41,
   "metadata": {},
   "outputs": [
    {
     "name": "stdout",
     "output_type": "stream",
     "text": [
      "Includes {'RecName': {}, 'AltName': {}}\n",
      "RecName {}\n",
      "Contains {'RecName': {'Full': ['Receptor', 'Receptor']}, 'AltName': {'Short': ['HLC-7;'], 'Full': ['Cell', 'Guanine', 'Guanine', 'Human', 'Receptor', 'Small', 'Guanine']}}\n",
      "AltName {}\n",
      "Flags []\n"
     ]
    }
   ],
   "source": [
    "for i in cancerData:\n",
    "#    if i.id == \"BRCA1_HUMAN\":\n",
    "    if i.id == \"RACK1_HUMAN\":\n",
    "        [print(a, b) for a, b in i.desc.items()]\n",
    "        break"
   ]
  },
  {
   "cell_type": "code",
   "execution_count": null,
   "metadata": {},
   "outputs": [],
   "source": []
  }
 ],
 "metadata": {
  "kernelspec": {
   "display_name": "Python 3",
   "language": "python",
   "name": "python3"
  },
  "language_info": {
   "codemirror_mode": {
    "name": "ipython",
    "version": 3
   },
   "file_extension": ".py",
   "mimetype": "text/x-python",
   "name": "python",
   "nbconvert_exporter": "python",
   "pygments_lexer": "ipython3",
   "version": "3.5.1"
  }
 },
 "nbformat": 4,
 "nbformat_minor": 2
}
