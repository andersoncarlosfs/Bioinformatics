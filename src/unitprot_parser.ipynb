{
 "cells": [
  {
   "cell_type": "code",
   "execution_count": 56,
   "metadata": {},
   "outputs": [],
   "source": [
    "import pandas as pd\n",
    "from pandas import DataFrame"
   ]
  },
  {
   "cell_type": "markdown",
   "metadata": {},
   "source": [
    "# NCBI"
   ]
  },
  {
   "cell_type": "code",
   "execution_count": 57,
   "metadata": {
    "scrolled": true
   },
   "outputs": [],
   "source": [
    "gene2go = pd.read_csv(\"../Datasets/NCBI/gene2go/gene2go\", delimiter=\"\\t\")\n",
    "# only 9606 is related to the human genome, so we take only related lines\n",
    "gene2go = gene2go.loc[gene2go['#tax_id'] == 9606]\n",
    "# now, this column is useless as it contains only one value\n",
    "gene2go = gene2go.drop(columns=['#tax_id'])"
   ]
  },
  {
   "cell_type": "code",
   "execution_count": 58,
   "metadata": {
    "scrolled": true
   },
   "outputs": [],
   "source": [
    "\n",
    "homo_sapiens = pd.read_csv(\"../Datasets/NCBI/Homo_sapiens.gene_info/Homo_sapiens.gene_info\", delimiter=\"\\t\")\n",
    "# only 9606 is related to the human genome, so we take only related lines\n",
    "homo_sapiens = homo_sapiens.loc[homo_sapiens['#tax_id'] == 9606]\n",
    "# now, this column is useless as it contains only one value\n",
    "homo_sapiens = homo_sapiens.drop(columns=['#tax_id'])"
   ]
  },
  {
   "cell_type": "code",
   "execution_count": 59,
   "metadata": {},
   "outputs": [
    {
     "data": {
      "text/plain": [
       "['GeneID',\n",
       " 'Symbol',\n",
       " 'LocusTag',\n",
       " 'Synonyms',\n",
       " 'dbXrefs',\n",
       " 'chromosome',\n",
       " 'map_location',\n",
       " 'description',\n",
       " 'type_of_gene',\n",
       " 'Symbol_from_nomenclature_authority',\n",
       " 'Full_name_from_nomenclature_authority',\n",
       " 'Nomenclature_status',\n",
       " 'Other_designations',\n",
       " 'Modification_date',\n",
       " 'Feature_type']"
      ]
     },
     "execution_count": 59,
     "metadata": {},
     "output_type": "execute_result"
    }
   ],
   "source": [
    "# Then we just have to generate the queries, really it's not complicated...\n",
    "homo_sapiens.columns.tolist()"
   ]
  },
  {
   "cell_type": "code",
   "execution_count": 60,
   "metadata": {},
   "outputs": [
    {
     "data": {
      "text/plain": [
       "['GeneID', 'GO_ID', 'Evidence', 'Qualifier', 'GO_term', 'PubMed', 'Category']"
      ]
     },
     "execution_count": 60,
     "metadata": {},
     "output_type": "execute_result"
    }
   ],
   "source": [
    "gene2go.columns.tolist()"
   ]
  },
  {
   "cell_type": "markdown",
   "metadata": {},
   "source": [
    "# Parsing UnitProt data"
   ]
  },
  {
   "cell_type": "markdown",
   "metadata": {},
   "source": [
    "## Functions to generate queries from data\n",
    "\n",
    "The following functions are used in the generation of SQL script from data.\n",
    "\n",
    "**toSQLStr** converts a chunk of data (a tuple/list or a single element) to a format suited for an INSERT query.\n",
    "The main problem encountered here is that some names may contains single quotes('). SQL allows escaping those by adding an additional quote :\n",
    "    'go'el' => 'go''el'"
   ]
  },
  {
   "cell_type": "code",
   "execution_count": 61,
   "metadata": {},
   "outputs": [],
   "source": [
    " def toSQLStr(tup):\n",
    "    result = \"(\"\n",
    "    if type(tup) == str:\n",
    "        subitem = \"\"\n",
    "        for c in tup:\n",
    "            if c in \"'\":\n",
    "                subitem = subitem + \"'\"\n",
    "            subitem = subitem + c\n",
    "        result = result + \"'\" + subitem + \"'\"\n",
    "    elif type(tup) == tuple or type(tup) == list:\n",
    "        first = True\n",
    "        for item in tup:\n",
    "            if not item:\n",
    "                continue\n",
    "            if first:\n",
    "                first = False\n",
    "            else:\n",
    "                result = result + \", \"\n",
    "            if type(item) == str:\n",
    "                subitem = \"\"\n",
    "                for c in item:\n",
    "                    if c in \"'\":\n",
    "                        subitem = subitem + \"'\"\n",
    "                    subitem = subitem + c\n",
    "                result = result + \"'\" + subitem + \"'\"\n",
    "            else:\n",
    "                result = result + str(item)\n",
    "    return result + \")\""
   ]
  },
  {
   "cell_type": "markdown",
   "metadata": {},
   "source": [
    "**writeInsertQuery** generates an INSERT query from the lines given as parameter. \n",
    "It uses the above function to convert those lines of data to a format suitable to SQL.\n",
    "The query is written to the file specified by `filepath`."
   ]
  },
  {
   "cell_type": "code",
   "execution_count": 62,
   "metadata": {},
   "outputs": [],
   "source": [
    "def writeInsertQuery(table, lines, filepath):\n",
    "    if len(lines) == 0 or not table or not filepath:\n",
    "        return\n",
    "    with open(filepath, \"w\") as outf:\n",
    "        first = True\n",
    "        outf.write(\"INSERT INTO TABLE \" + table + \" VALUES\")\n",
    "        #outf.writelines(\"\\n\" + toSQLStr(line) for line in lines)\n",
    "        for line in lines:\n",
    "            if first:\n",
    "                first = False\n",
    "            else:\n",
    "                outf.write(\",\")\n",
    "            outf.write(\"\\n\" + toSQLStr(line))\n",
    "        outf.write(\";\")"
   ]
  },
  {
   "cell_type": "markdown",
   "metadata": {},
   "source": [
    "## Useful functions"
   ]
  },
  {
   "cell_type": "code",
   "execution_count": 63,
   "metadata": {},
   "outputs": [],
   "source": [
    "# str.split(delimiter) returns also empty elements; this function simply removes them\n",
    "def split(s, delimiter):\n",
    "    content = s.split(delimiter)\n",
    "    return [item for item in content if item]\n",
    "\n",
    "# This function adds an couple key-value to a dict assuming it associates a key to a list.\n",
    "# The value is meant to be added to the array, but if the key does not exist, you will need to create the array first. \n",
    "# This function creates this array for you if it doesn't exist yet.\n",
    "def appendToSubArray(di, key, value):\n",
    "    if not key in di:\n",
    "        di[key] = []\n",
    "    di[key].append(value)\n",
    "        "
   ]
  },
  {
   "cell_type": "markdown",
   "metadata": {},
   "source": [
    "## Parsing UnitProt\n",
    "\n",
    "The main dish; parsing the UnitProt file.\n",
    "\n",
    "We are only interested in specific lines, so we extract only those. For every line, we keep it as a tuple `(type of line, content)`. A line is parsed with the '\\n' char at the end, so we take the opportunity to remove it with `[:-1]`."
   ]
  },
  {
   "cell_type": "code",
   "execution_count": 64,
   "metadata": {},
   "outputs": [],
   "source": [
    "cancer_lines = []\n",
    "with open(\"../Datasets/UniProtKB/unitprot-cancer/unitprot-cancer.txt\") as cf:\n",
    "    for line in cf:\n",
    "        content = split(line, ' ')\n",
    "        if len(content) > 0 and content[0] in ['ID', 'AC', 'DE', 'GN', 'KW', 'DR']:\n",
    "            cancer_lines.append((content[0], (' '.join(content[1:]))[:-1]))\n"
   ]
  },
  {
   "cell_type": "markdown",
   "metadata": {},
   "source": [
    "In the UnitProt file, an entry always begins with the line `ID`, where we find the name of entry. To gather the data related to an entry, we use the class `DataEntry` which will contain all of it. Once we encounter a new line `ID`, we create a new data entry, and we store the previous one.\n",
    "\n",
    "Among the other lines that are of interest to us, there is :\n",
    "\n",
    "### Accession numbers (AC)\n",
    "\n",
    "Items are separated by semicolons. Parsing it is pretty straightforward.\n",
    "\n",
    "### Keywords (KW)\n",
    "\n",
    "Items are separated by semicolons. Parsing it is pretty straightforward.\n",
    "\n",
    "### Data cross-reference (DR)\n",
    "\n",
    "This line contains different kinds of data. We are only interested here in the GO (Gene Ontology) numbers. A line that contains a GO number always begins with GO, so we check for that.\n",
    "\n",
    "### Gene names (GN)\n",
    "\n",
    "\n",
    "\n",
    "### Description (DE)\n",
    "\n",
    "This is the most complex line to parse here. The line may have the following formats, for what interests us : \n",
    "\n",
    "    1 <Category>: <subcategory>=<value>\n",
    "    2           <subcategory>=<value>\n",
    "    3 <Supercategory>:\n",
    "    4         <Category>: <subcategory>=<value>\n",
    "    5                  <subcategory>=<value>\n",
    "    6 Flags: <value>\n",
    "\n",
    "There are `.strip()`s here and there to remove whitespace noise. We also try to exclude the semicolons at the end of results with `[:-1]`.\n",
    "\n",
    "We remove the content between brackets, as we do not take it into account, by splitting the line by '{' and keeping only the left element.\n",
    "\n",
    "You can see the details on the data these lines contain [here](https://web.expasy.org/docs/userman.html).\n"
   ]
  },
  {
   "cell_type": "code",
   "execution_count": 65,
   "metadata": {},
   "outputs": [],
   "source": [
    "class DataEntry:\n",
    "    def __init__(self, id):\n",
    "        self.id = id\n",
    "        self.ac = []\n",
    "        self.desc = {\"AltName\" : {}, \n",
    "                     \"RecName\" : {},\n",
    "                     \"SubName\" : {},\n",
    "                     \"Contains\" : {\n",
    "                         \"RecName\" : {}, \n",
    "                         \"AltName\" : {}, \n",
    "                         \"SubName\" : {}\n",
    "                     }, \n",
    "                     \"Includes\" : {\n",
    "                         \"RecName\" : {}, \n",
    "                         \"AltName\" : {}, \n",
    "                         \"SubName\" : {}\n",
    "                     }\n",
    "                    }\n",
    "        self.flags = []\n",
    "        self.go = []\n",
    "        self.keywords = []\n",
    "        self.gn = {}\n",
    "        \n",
    "    # Generates triples from the data. Not updated.\n",
    "    def triples(self):\n",
    "        triples = []\n",
    "        \n",
    "        # Keywords\n",
    "        for item in self.keywords:\n",
    "            triples.append((self.id, \"keyword\", item))\n",
    "            \n",
    "        # Accession numbers\n",
    "        for item in self.ac:\n",
    "            triples.append((self.id, \"acnumber\", item))\n",
    "            \n",
    "        # Recommended Names\n",
    "        if 'RecName' in self.desc:\n",
    "            for item in self.desc['RecName']:\n",
    "                triples.append((self.id, \"recname\", item))\n",
    "        \n",
    "        # Alternative Names\n",
    "        if 'AltName' in self.desc:\n",
    "            for item in self.desc['AltName']:\n",
    "                triples.append((self.id, \"altname\", item))\n",
    "            \n",
    "        return triples\n",
    "    \n",
    "    # Translates the data to a printable format.\n",
    "    def __str__(self):\n",
    "        desc = \"\"\n",
    "        desc = desc + \"ID=\" + self.id \n",
    "        desc = desc +\"\\n\\nDescription\\n\" + str(self.desc)\n",
    "        desc = desc + \"\\n\\nKeywords\\n\" + str(self.keywords)\n",
    "        desc = desc + \"\\n\\nACcessionNumbers\\n\" + str(self.ac)\n",
    "        desc = desc + \"\\n\\nGeneNames\\n\" + str(self.gn)\n",
    "        desc = desc + \"\\n\\nGeneOntology\\n\" + str(self.go)\n",
    "        return desc"
   ]
  },
  {
   "cell_type": "code",
   "execution_count": 66,
   "metadata": {
    "scrolled": true
   },
   "outputs": [],
   "source": [
    "cancerData = []\n",
    "\n",
    "# Loop external data\n",
    "\n",
    "# The current data entry\n",
    "currentEntry = None\n",
    "\n",
    "# Those two corresponds to the keys that have been declared \n",
    "# previously in the DataEntry class desc field, category\n",
    "# being at the first level and subCategory the second level.\n",
    "\n",
    "# Expected values : [Contains, Includes, None]\n",
    "subCategory = None\n",
    "\n",
    "# Expected values : [AltName, RecName, SubName]\n",
    "category = None\n",
    "            \n",
    "for line in cancer_lines:\n",
    "    \n",
    "    # If the line is empty, continue on to the next iteration\n",
    "    if not line[1]:\n",
    "        continue\n",
    "    \n",
    "    # If we encounter an ID line\n",
    "    if (line[0] == 'ID'):\n",
    "        # We create a new data entry and store it.\n",
    "        # All following lines will store their data into this entry, until we meet a new ID line.\n",
    "        currentEntry = DataEntry(split(line[1].split(' ')[0] , '_')[0])\n",
    "        cancerData.append(currentEntry)\n",
    "\n",
    "    elif (line[0] == 'AC'):\n",
    "        if currentEntry:\n",
    "                [currentEntry.ac.append(item.strip()) for item in split(line[1], ';')]\n",
    "                \n",
    "    elif (line[0] == 'KW'):\n",
    "        if currentEntry:\n",
    "                [currentEntry.keywords.append(item.strip()) for item in split(line[1], ';')]\n",
    "                \n",
    "    elif (line[0] == 'DR'):\n",
    "        if currentEntry:\n",
    "                    # [:-1] to remove the dot at the end that we don't need\n",
    "                semicolonsplit = split(line[1][:-1], ';')\n",
    "                # check if the line begins with 'GO', in which case we retrieve the GO number in the line\n",
    "                if len(semicolonsplit) > 1 and semicolonsplit[0] == 'GO':\n",
    "                    goEntry = {}\n",
    "                    \n",
    "                    for i in range(1, len(semicolonsplit)):\n",
    "                        colonsplit2 = split(semicolonsplit[i], ':')\n",
    "                        goEntry[colonsplit2[0].strip()] = colonsplit2[1].strip()\n",
    "                        \n",
    "                    currentEntry.go.append(goEntry)\n",
    "    \n",
    "    elif (line[0] == 'GN'):\n",
    "        \n",
    "        if currentEntry:\n",
    "            \n",
    "            # we ignore the lines that only contains 'and'\n",
    "            if line[1] == 'and':\n",
    "                continue\n",
    "                \n",
    "            # Gene names are separated by semicolons.\n",
    "            # An item is of the form <category>=<value>[, <value2>, ...].\n",
    "            for item in split(line[1], ';'):\n",
    "                \n",
    "                content = split(item, '=')\n",
    "                \n",
    "                if len(content) > 1:\n",
    "                    # there may be several values, separated by commas\n",
    "                    commasplit = split(content[1], ',')\n",
    "                    for item in commasplit:\n",
    "                        value = split(item, '{')[0].strip()\n",
    "                        # we store the value in the array of category\n",
    "                        appendToSubArray(currentEntry.gn, content[0].strip(), value)\n",
    "                    \n",
    "    elif (line[0] == 'DE'):\n",
    "        if currentEntry:\n",
    "            colonsplit = split(line[1], ':')\n",
    "            if len(colonsplit) and colonsplit[0] in ['Contains', 'Includes']:\n",
    "                category = colonsplit[0]\n",
    "            elif len(colonsplit) and colonsplit[0] in ['AltName', 'RecName', 'SubName']:\n",
    "                subCategory = colonsplit[0]\n",
    "                content = split(colonsplit[1][:-1], '=')\n",
    "                \n",
    "                # to remove the content between brackets\n",
    "                value = split(content[1], '{')[0].strip()\n",
    "                if category:\n",
    "                    appendToSubArray(currentEntry.desc[category][subCategory], content[0].strip(), value)\n",
    "                else:\n",
    "                    appendToSubArray(currentEntry.desc[subCategory], content[0].strip(), value)\n",
    "            elif colonsplit[0] == 'Flags':\n",
    "                currentEntry.flags.append(colonsplit[1][:-1].strip())\n",
    "            else:\n",
    "                content = split(line[1], '=')\n",
    "                if len(content) < 2:\n",
    "                    continue\n",
    "                # to remove the content between brackets\n",
    "                value = split(content[1][:-1], '{')[0].strip()\n",
    "                if category and subCategory:\n",
    "                    appendToSubArray(currentEntry.desc[category][subCategory], content[0].strip(), value)\n",
    "                elif subCategory:\n",
    "                    appendToSubArray(currentEntry.desc[subCategory], content[0].strip(), value)\n",
    "                \n",
    "    \n",
    "            \n",
    "    \n"
   ]
  },
  {
   "cell_type": "markdown",
   "metadata": {},
   "source": [
    "## Content of a data entry\n",
    "\n",
    "Once we have extracted the UnitProt entries, we can preview what data one such entry holds, from what we have parsed."
   ]
  },
  {
   "cell_type": "code",
   "execution_count": 67,
   "metadata": {},
   "outputs": [
    {
     "name": "stdout",
     "output_type": "stream",
     "text": [
      "ID=P53\n",
      "\n",
      "Description\n",
      "{'SubName': {}, 'RecName': {'Full': ['Cellular tumor antigen p53']}, 'Contains': {'SubName': {}, 'RecName': {}, 'AltName': {}}, 'AltName': {'Full': ['Antigen NY-CO-13', 'Phosphoprotein p53', 'Tumor suppressor p53']}, 'Includes': {'SubName': {}, 'RecName': {}, 'AltName': {}}}\n",
      "\n",
      "Keywords\n",
      "['3D-structure', 'Acetylation', 'Activator', 'Alternative promoter usage', 'Alternative splicing', 'Apoptosis', 'Biological rhythms', 'Cell cycle', 'Complete proteome', 'Cytoplasm', 'Disease mutation', 'DNA-binding', 'Endoplasmic reticulum', 'Glycoprotein', 'Host-virus interaction', 'Isopeptide bond', 'Li-Fraumeni syndrome', 'Metal-binding', 'Methylation', 'Mitochondrion', 'Necrosis', 'Nucleus', 'Phosphoprotein', 'Polymorphism', 'Reference proteome', 'Repressor', 'Transcription', 'Transcription regulation', 'Tumor suppressor', 'Ubl conjugation', 'Zinc.']\n",
      "\n",
      "ACcessionNumbers\n",
      "['P04637', 'Q15086', 'Q15087', 'Q15088', 'Q16535', 'Q16807', 'Q16808', 'Q16809', 'Q16810', 'Q16811', 'Q16848', 'Q2XN98', 'Q3LRW1', 'Q3LRW2', 'Q3LRW3', 'Q3LRW4', 'Q3LRW5', 'Q86UG1', 'Q8J016', 'Q99659', 'Q9BTM4', 'Q9HAQ8', 'Q9NP68', 'Q9NPJ2', 'Q9NZD0', 'Q9UBI2', 'Q9UQ61']\n",
      "\n",
      "GeneNames\n",
      "{'Name': ['TP53'], 'Synonyms': ['P53']}\n",
      "\n",
      "GeneOntology\n",
      "[{'GO': '0005737', 'C': 'cytoplasm', 'IDA': 'UniProtKB'}, {'GO': '0005829', 'C': 'cytosol', 'IDA': 'UniProtKB'}, {'IEA': 'UniProtKB-SubCell', 'GO': '0005783', 'C': 'endoplasmic reticulum'}, {'GO': '0005622', 'C': 'intracellular', 'IDA': 'CAFA'}, {'IEA': 'UniProtKB-SubCell', 'GO': '0005759', 'C': 'mitochondrial matrix'}, {'GO': '0005739', 'C': 'mitochondrion', 'IDA': 'UniProtKB'}, {'GO': '0000790', 'C': 'nuclear chromatin', 'IDA': 'BHF-UCL'}, {'GO': '0016363', 'C': 'nuclear matrix', 'IDA': 'UniProtKB'}, {'GO': '0005730', 'C': 'nucleolus', 'IDA': 'UniProtKB'}, {'GO': '0005654', 'C': 'nucleoplasm', 'IDA': 'UniProtKB'}, {'GO': '0005634', 'C': 'nucleus', 'IDA': 'UniProtKB'}, {'GO': '0016605', 'C': 'PML body', 'IDA': 'UniProtKB'}, {'GO': '0043234', 'C': 'protein complex', 'IDA': 'CAFA'}, {'IBA': 'GO_Central', 'GO': '0005657', 'C': 'replication fork'}, {'F': 'ATP binding', 'GO': '0005524', 'IDA': 'UniProtKB'}, {'F': 'chaperone binding', 'GO': '0051087', 'IPI': 'UniProtKB'}, {'F': 'chromatin binding', 'GO': '0003682', 'IDA': 'UniProtKB'}, {'F': 'copper ion binding', 'GO': '0005507', 'IDA': 'UniProtKB'}, {'F': 'core promoter sequence-specific DNA binding', 'GO': '0001046', 'IDA': 'CAFA'}, {'F': 'damaged DNA binding', 'IBA': 'GO_Central', 'GO': '0003684'}, {'F': 'disordered domain specific binding', 'GO': '0097718', 'IPI': 'CAFA'}, {'F': 'DNA binding', 'GO': '0003677', 'IDA': 'UniProtKB'}, {'F': 'enzyme binding', 'GO': '0019899', 'IPI': 'UniProtKB'}, {'F': 'histone acetyltransferase binding', 'GO': '0035035', 'IPI': 'UniProtKB'}, {'F': 'histone deacetylase binding', 'GO': '0042826', 'IPI': 'CAFA'}, {'F': 'identical protein binding', 'IMP': 'CAFA', 'GO': '0042802'}, {'F': \"mRNA 3'-UTR binding\", 'GO': '0003730', 'IDA': 'CAFA'}, {'F': 'p53 binding', 'GO': '0002039', 'IPI': 'CAFA'}, {'F': 'protease binding', 'GO': '0002020', 'IPI': 'UniProtKB'}, {'F': 'protein heterodimerization activity', 'GO': '0046982', 'IPI': 'UniProtKB'}, {'F': 'protein kinase binding', 'GO': '0019901', 'IPI': 'UniProtKB'}, {'F': 'protein N-terminus binding', 'GO': '0047485', 'IPI': 'UniProtKB'}, {'F': 'protein phosphatase 2A binding', 'GO': '0051721', 'IPI': 'UniProtKB'}, {'F': 'protein phosphatase binding', 'GO': '0019903', 'IPI': 'UniProtKB'}, {'F': 'protein self-association', 'GO': '0043621', 'IPI': 'AgBase'}, {'F': 'receptor tyrosine kinase binding', 'GO': '0030971', 'IPI': 'BHF-UCL'}, {'F': 'RNA polymerase II regulatory region sequence-specific DNA binding', 'GO': '0000977', 'IDA': 'ParkinsonsUK-UCL'}, {'F': 'RNA polymerase II transcription factor activity, sequence-specific DNA binding', 'GO': '0000981', 'IDA': 'UniProtKB'}, {'F': 'RNA polymerase II transcription factor binding', 'GO': '0001085', 'IPI': 'BHF-UCL'}, {'F': 'transcription factor activity, core RNA polymerase binding', 'GO': '0000990', 'IDA': 'CAFA'}, {'F': 'transcription factor activity, sequence-specific DNA binding', 'GO': '0003700', 'IDA': 'UniProtKB'}, {'F': 'transcription factor binding', 'GO': '0008134', 'IPI': 'UniProtKB'}, {'F': 'transcription regulatory region DNA binding', 'GO': '0044212', 'IDA': 'BHF-UCL'}, {'F': 'transcriptional activator activity, RNA polymerase II transcription regulatory region sequence-specific binding', 'GO': '0001228', 'IDA': 'BHF-UCL'}, {'F': 'ubiquitin protein ligase binding', 'GO': '0031625', 'IPI': 'UniProtKB'}, {'F': 'zinc ion binding', 'GO': '0008270', 'TAS': 'UniProtKB'}, {'P': 'autophagy', 'IMP': 'CAFA', 'GO': '0006914'}, {'P': 'base-excision repair', 'GO': '0006284', 'TAS': 'UniProtKB'}, {'P': 'cell aging', 'IMP': 'UniProtKB', 'GO': '0007569'}, {'P': 'cell cycle arrest', 'GO': '0007050', 'IDA': 'BHF-UCL'}, {'P': 'cell differentiation', 'GO': '0030154', 'TAS': 'UniProtKB'}, {'P': 'cell proliferation', 'GO': '0008283', 'TAS': 'UniProtKB'}, {'P': 'cellular protein localization', 'GO': '0034613', 'IDA': 'UniProtKB'}, {'P': 'cellular response to actinomycin D', 'GO': '0072717', 'IDA': 'CAFA'}, {'P': 'cellular response to DNA damage stimulus', 'GO': '0006974', 'IDA': 'UniProtKB'}, {'P': 'cellular response to drug', 'GO': '0035690', 'IEP': 'UniProtKB'}, {'P': 'cellular response to gamma radiation', 'GO': '0071480', 'IDA': 'CAFA'}, {'P': 'cellular response to glucose starvation', 'GO': '0042149', 'IDA': 'UniProtKB'}, {'P': 'cellular response to hypoxia', 'GO': '0071456', 'IEP': 'UniProtKB'}, {'P': 'cellular response to ionizing radiation', 'IMP': 'BHF-UCL', 'GO': '0071479'}, {'P': 'cellular response to UV', 'GO': '0034644', 'IDA': 'CAFA'}, {'P': 'chromatin assembly', 'GO': '0031497', 'IDA': 'UniProtKB'}, {'P': 'circadian behavior', 'ISS': 'UniProtKB', 'GO': '0048512'}, {'P': 'determination of adult lifespan', 'ISS': 'BHF-UCL', 'GO': '0008340'}, {'P': 'DNA damage response, signal transduction by p53 class mediator', 'GO': '0030330', 'IDA': 'BHF-UCL'}, {'P': 'DNA damage response, signal transduction by p53 class mediator resulting in cell cycle arrest', 'IMP': 'CAFA', 'GO': '0006977'}, {'P': 'DNA damage response, signal transduction by p53 class mediator resulting in transcription of p21 class mediator', 'GO': '0006978', 'IDA': 'CAFA'}, {'P': 'DNA strand renaturation', 'GO': '0000733', 'IDA': 'UniProtKB'}, {'P': 'entrainment of circadian clock by photoperiod', 'ISS': 'UniProtKB', 'GO': '0043153'}, {'P': 'ER overload response', 'GO': '0006983', 'IDA': 'MGI'}, {'P': 'intrinsic apoptotic signaling pathway', 'GO': '0097193', 'TAS': 'HGNC'}, {'P': 'intrinsic apoptotic signaling pathway by p53 class mediator', 'IMP': 'UniProtKB', 'GO': '0072332'}, {'P': 'intrinsic apoptotic signaling pathway in response to DNA damage by p53 class mediator', 'GO': '0042771', 'IDA': 'UniProtKB'}, {'P': 'mitotic G1 DNA damage checkpoint', 'IMP': 'BHF-UCL', 'GO': '0031571'}, {'P': 'mRNA transcription', 'IMP': 'UniProtKB', 'GO': '0009299'}, {'P': 'multicellular organism development', 'IMP': 'UniProtKB', 'GO': '0007275'}, {'P': 'negative regulation of apoptotic process', 'GO': '0043066', 'IDA': 'UniProtKB'}, {'P': 'negative regulation of cell growth', 'IMP': 'UniProtKB', 'GO': '0030308'}, {'P': 'negative regulation of cell proliferation', 'GO': '0008285', 'IDA': 'CACAO'}, {'P': 'negative regulation of fibroblast proliferation', 'IMP': 'UniProtKB', 'GO': '0048147'}, {'P': 'negative regulation of helicase activity', 'GO': '0051097', 'TAS': 'UniProtKB'}, {'P': 'negative regulation of telomerase activity', 'GO': '0051974', 'IDA': 'BHF-UCL'}, {'P': 'negative regulation of transcription from RNA polymerase II promoter', 'GO': '0000122', 'IDA': 'UniProtKB'}, {'P': 'negative regulation of transcription, DNA-templated', 'GO': '0045892', 'IDA': 'UniProtKB'}, {'P': 'nucleotide-excision repair', 'IMP': 'UniProtKB', 'GO': '0006289'}, {'P': 'oligodendrocyte apoptotic process', 'GO': '0097252', 'IDA': 'UniProtKB'}, {'P': 'oxidative stress-induced premature senescence', 'IMP': 'BHF-UCL', 'GO': '0090403'}, {'P': 'positive regulation of apoptotic process', 'GO': '0043065', 'IDA': 'UniProtKB'}, {'P': 'positive regulation of cell cycle arrest', 'GO': '0071158', 'IDA': 'CAFA'}, {'P': 'positive regulation of execution phase of apoptosis', 'IMP': 'AgBase', 'GO': '1900119'}, {'P': 'positive regulation of gene expression', 'GO': '0010628', 'IDA': 'CAFA'}, {'P': 'positive regulation of histone deacetylation', 'IBA': 'GO_Central', 'GO': '0031065'}, {'P': 'positive regulation of intrinsic apoptotic signaling pathway', 'IMP': 'UniProtKB', 'GO': '2001244'}, {'P': 'positive regulation of neuron apoptotic process', 'IBA': 'GO_Central', 'GO': '0043525'}, {'P': 'positive regulation of peptidyl-tyrosine phosphorylation', 'ISS': 'BHF-UCL', 'GO': '0050731'}, {'P': 'positive regulation of pri-miRNA transcription from RNA polymerase II promoter', 'GO': '1902895', 'IDA': 'BHF-UCL'}, {'P': 'positive regulation of protein export from nucleus', 'GO': '0046827', 'TAS': 'Reactome'}, {'P': 'positive regulation of protein insertion into mitochondrial membrane involved in apoptotic signaling pathway', 'GO': '1900740', 'TAS': 'Reactome'}, {'P': 'positive regulation of protein oligomerization', 'GO': '0032461', 'IDA': 'UniProtKB'}, {'P': 'positive regulation of reactive oxygen species metabolic process', 'IMP': 'BHF-UCL', 'GO': '2000379'}, {'P': 'positive regulation of release of cytochrome c from mitochondria', 'GO': '0090200', 'IDA': 'UniProtKB'}, {'P': 'positive regulation of thymocyte apoptotic process', 'ISS': 'BHF-UCL', 'GO': '0070245'}, {'P': 'positive regulation of transcription from RNA polymerase II promoter', 'GO': '0045944', 'IDA': 'UniProtKB'}, {'P': 'positive regulation of transcription from RNA polymerase II promoter in response to endoplasmic reticulum stress', 'ISS': 'ParkinsonsUK-UCL', 'GO': '1990440'}, {'P': 'positive regulation of transcription, DNA-templated', 'GO': '0045893', 'IDA': 'UniProtKB'}, {'P': 'proteasome-mediated ubiquitin-dependent protein catabolic process', 'GO': '0043161', 'TAS': 'Reactome'}, {'P': 'protein complex assembly', 'GO': '0006461', 'IDA': 'UniProtKB'}, {'P': 'protein deubiquitination', 'GO': '0016579', 'TAS': 'Reactome'}, {'P': 'protein homotetramerization', 'IMP': 'CAFA', 'GO': '0051289'}, {'P': 'protein localization', 'GO': '0008104', 'IDA': 'UniProtKB'}, {'P': 'protein tetramerization', 'GO': '0051262', 'TAS': 'UniProtKB'}, {'P': 'Ras protein signal transduction', 'GO': '0007265', 'IEP': 'BHF-UCL'}, {'P': 'regulation of apoptotic process', 'GO': '0042981', 'IDA': 'MGI'}, {'P': 'regulation of cell cycle G2/M phase transition', 'GO': '1902749', 'TAS': 'Reactome'}, {'P': 'regulation of mitochondrial membrane permeability', 'GO': '0046902', 'TAS': 'UniProtKB'}, {'P': 'regulation of signal transduction by p53 class mediator', 'GO': '1901796', 'TAS': 'Reactome'}, {'P': 'regulation of transcription, DNA-templated', 'GO': '0006355', 'IDA': 'UniProtKB'}, {'P': 'replicative senescence', 'IMP': 'BHF-UCL', 'GO': '0090399'}, {'P': 'response to antibiotic', 'GO': '0046677', 'IEP': 'UniProtKB'}, {'P': 'response to gamma radiation', 'IMP': 'BHF-UCL', 'GO': '0010332'}, {'P': 'response to X-ray', 'IBA': 'GO_Central', 'GO': '0010165'}, {'P': 'signal transduction by p53 class mediator', 'GO': '0072331', 'IDA': 'CAFA'}, {'P': 'viral process', 'IMP': 'CACAO', 'GO': '0016032'}]\n"
     ]
    }
   ],
   "source": [
    "if len(cancerData):\n",
    "    print(cancerData[0])"
   ]
  },
  {
   "cell_type": "markdown",
   "metadata": {},
   "source": [
    "## Generating queries from data entries\n",
    "\n",
    "Now that we have parsed the data and categorized it, we can start to generate queries to insert the data in a database. Here are the tables we have chosen to hold the data of UnitProt :\n",
    "\n",
    "### The ID table\n",
    "\n",
    "This table contains only the id of every entry.\n",
    "\n",
    "### The AC table\n",
    "\n",
    "For every accession number of an entry, it contains :\n",
    "* the entry id;\n",
    "* and an associated accession number.\n",
    "\n",
    "### The KW table\n",
    "\n",
    "For every keyword of an entry, it contains : \n",
    "* the entry id\n",
    "* the associated keyword.\n",
    "\n",
    "### The GeneName table\n",
    "\n",
    "For every gene name of an entry, it contains :\n",
    "* the entry id\n",
    "* the type of name \n",
    "* the gene name.\n",
    "\n",
    "The type can take three values : \n",
    "* synonym\n",
    "* orfname\n",
    "* name\n",
    "\n",
    "### The Gene Ontology table\n",
    "\n",
    "For every gene ontology reference of an entry, it contains :\n",
    "* the entry id\n",
    "* the reference number\n",
    "\n",
    "In addition to the reference number, we have additional information. It may be of use.\n",
    "\n",
    "### The Flag table\n",
    "\n",
    "For every flag of an entry, it contains :\n",
    "* the entry id\n",
    "* the flag.\n",
    "\n",
    "### The Name table\n",
    "\n",
    "This table bundles the description data into one table. It contains :\n",
    "* the entry id\n",
    "* the name category (AltName, RecName, SubName)\n",
    "* the name subcategory (Full, Short, EC)\n",
    "* the actual name\n",
    "\n",
    "You can alter the names of the tables in the query below if you so wish.\n",
    "\n",
    "The code below generate one SQL script for each table.\n",
    "\n",
    "You can find the database schema [here](../Database/unitprot_database.pdf)."
   ]
  },
  {
   "cell_type": "code",
   "execution_count": 73,
   "metadata": {},
   "outputs": [],
   "source": [
    "# change your table names here\n",
    "id_table = \"unitprot\"\n",
    "ac_table = \"accession_number\"\n",
    "name_table = \"description\"\n",
    "keyword_table = \"keyword\"\n",
    "genename_table = \"gene_name\"\n",
    "gene_ontology_table = \"go_unitprot\"\n",
    "\n",
    "lines = {\n",
    "    id_table : [],\n",
    "    ac_table : [], \n",
    "    # if you want to have both altname and recname in the same table, use this one\n",
    "    name_table: [],\n",
    "    keyword_table : [], \n",
    "    genename_table : [], \n",
    "    gene_ontology_table : [],\n",
    "    'go_evidence' : [],\n",
    "    'go_term' : [],\n",
    "    flag_table : []}\n",
    "\n",
    "for entry in cancerData:\n",
    "    \n",
    "    # id table\n",
    "    lines[id_table].append((entry.id, entry.flags[0] if entry.flags else 'NOT AVAILABLE'))\n",
    "    \n",
    "    # ac table\n",
    "    [lines[ac_table].append((entry.id, item)) for item in entry.ac]\n",
    "    \n",
    "    # Name table\n",
    "    # alternative names\n",
    "    [lines[name_table].append((entry.id, \"AltName\", k, item)) for k, names in entry.desc[\"AltName\"].items() for item in names]\n",
    "    [lines[name_table].append((entry.id, \"AltName\", k, item)) for k, names in entry.desc[\"Contains\"][\"AltName\"].items() for item in names]\n",
    "    [lines[name_table].append((entry.id, \"AltName\", k, item)) for k, names in entry.desc[\"Includes\"][\"AltName\"].items() for item in names]\n",
    "    \n",
    "    # recommended names\n",
    "    [lines[name_table].append((entry.id, \"RecName\", k, item)) for k, names in entry.desc[\"RecName\"].items() for item in names]\n",
    "    [lines[name_table].append((entry.id, \"RecName\", k, item)) for k, names in entry.desc[\"Contains\"][\"RecName\"].items() for item in names]\n",
    "    [lines[name_table].append((entry.id, \"RecName\", k, item)) for k, names in entry.desc[\"Includes\"][\"RecName\"].items() for item in names]\n",
    "    \n",
    "    # flag table\n",
    "    #[lines[flag_table].append((entry.id, item)) for item in entry.flags]\n",
    "    \n",
    "    # keyword table\n",
    "    [lines[keyword_table].append((entry.id, item)) for item in entry.keywords]\n",
    "    \n",
    "    # gene ontology table\n",
    "    [lines[gene_ontology_table].append((entry.id, item[\"GO\"])) for item in entry.go]\n",
    "    \n",
    "    # gene name table\n",
    "    [lines[genename_table].append((entry.id, k if \"s\" not in k else k[:-1], item)) for k, v in entry.gn.items() for item in v]\n",
    "    \n",
    "    # Writing GO special queries:\n",
    "    \"\"\"\n",
    "    [lines['go_evidence'].append((\n",
    "        go['GO'], \n",
    "        [i for i in go if len(i) == 3][0], \n",
    "        'NOT AVAILABLE', \n",
    "        [go[i] for i in go if len(i) == 3][0]\n",
    "    )) for go in entry.go]\n",
    "    \"\"\"\n",
    "    \n",
    "    [lines['go_term'].append((go['GO'], [go[i] for i in go if i in ['F', 'C', 'P']][0])) for go in entry.go]\n",
    "    \n",
    "for key, value in lines.items():\n",
    "    writeInsertQuery(key, value, \"queries/\" + str(key) + \".sql\")"
   ]
  },
  {
   "cell_type": "code",
   "execution_count": 69,
   "metadata": {},
   "outputs": [
    {
     "name": "stdout",
     "output_type": "stream",
     "text": [
      "Reached the end of the notebook !\n"
     ]
    }
   ],
   "source": [
    "print(\"Reached the end of the notebook !\")"
   ]
  },
  {
   "cell_type": "code",
   "execution_count": 70,
   "metadata": {},
   "outputs": [
    {
     "data": {
      "text/plain": [
       "'import gzip\\nfrom io import StringIO\\nf = gzip.open(\\'../Datasets/NCBI/Homo_sapiens.gene_info.gz\\', \\'rb\\')\\nfile_content = f.read()\\nf.close()\\ntext = file_content.decode(\"utf-8\")\\nhh = pd.read_csv(StringIO(text), delimiter=\"\\t\")\\nhh\\n'"
      ]
     },
     "execution_count": 70,
     "metadata": {},
     "output_type": "execute_result"
    }
   ],
   "source": [
    "\"\"\"import gzip\n",
    "from io import StringIO\n",
    "f = gzip.open('../Datasets/NCBI/Homo_sapiens.gene_info.gz', 'rb')\n",
    "file_content = f.read()\n",
    "f.close()\n",
    "text = file_content.decode(\"utf-8\")\n",
    "hh = pd.read_csv(StringIO(text), delimiter=\"\\t\")\n",
    "hh\n",
    "\"\"\""
   ]
  },
  {
   "cell_type": "code",
   "execution_count": 71,
   "metadata": {},
   "outputs": [
    {
     "name": "stdout",
     "output_type": "stream",
     "text": [
      "[]\n",
      "True\n"
     ]
    }
   ],
   "source": [
    "a = { 4 : \"a\", 3 : \"b\"}\n",
    "b = [a[i] for i in a if i in [1,2]]\n",
    "print(b)\n",
    "print(not b)"
   ]
  },
  {
   "cell_type": "code",
   "execution_count": null,
   "metadata": {},
   "outputs": [],
   "source": []
  }
 ],
 "metadata": {
  "kernelspec": {
   "display_name": "Python 3",
   "language": "python",
   "name": "python3"
  },
  "language_info": {
   "codemirror_mode": {
    "name": "ipython",
    "version": 3
   },
   "file_extension": ".py",
   "mimetype": "text/x-python",
   "name": "python",
   "nbconvert_exporter": "python",
   "pygments_lexer": "ipython3",
   "version": "3.5.1"
  }
 },
 "nbformat": 4,
 "nbformat_minor": 2
}
